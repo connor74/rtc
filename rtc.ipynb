{
 "cells": [
  {
   "cell_type": "code",
   "execution_count": 109,
   "metadata": {},
   "outputs": [],
   "source": [
    "import pandas as pd\n",
    "import numpy as np\n",
    "import datetime\n",
    "path = \"task_1.csv\"\n",
    "\n"
   ]
  },
  {
   "cell_type": "code",
   "execution_count": 110,
   "metadata": {},
   "outputs": [],
   "source": [
    "#dateparse = lambda x: datetime.datetime.strptime(x, '%d-%m-%Y %H:%M:%S')\n",
    "tmp = pd.read_csv(\n",
    "    path,\n",
    "    encoding = \"cp1251\",\n",
    "    sep=\";\",\n",
    "    on_bad_lines='skip',\n",
    "    header=0,\n",
    "    names=[\n",
    "        \"number\",\n",
    "        \"type\",\n",
    "        \"service\",\n",
    "        \"priority\",\n",
    "        \"status\",\n",
    "        \"dt_create\",\n",
    "        \"dt_solve\",\n",
    "        \"dt_close\",\n",
    "        \"firm\",\n",
    "        \"group\",\n",
    "        \"set\",\n",
    "        \"client\",\n",
    "        \"topic\",\n",
    "        \"sla\"\n",
    "    ],\n",
    "\n",
    ")\n"
   ]
  },
  {
   "attachments": {},
   "cell_type": "markdown",
   "metadata": {},
   "source": [
    "#####  1. Рассчитайте предварительные показатели для 1 квартала 2022 и подготовьте динамику для сравнения за предыдущие периоды"
   ]
  },
  {
   "cell_type": "code",
   "execution_count": 111,
   "metadata": {},
   "outputs": [
    {
     "data": {
      "text/html": [
       "<div>\n",
       "<style scoped>\n",
       "    .dataframe tbody tr th:only-of-type {\n",
       "        vertical-align: middle;\n",
       "    }\n",
       "\n",
       "    .dataframe tbody tr th {\n",
       "        vertical-align: top;\n",
       "    }\n",
       "\n",
       "    .dataframe thead th {\n",
       "        text-align: right;\n",
       "    }\n",
       "</style>\n",
       "<table border=\"1\" class=\"dataframe\">\n",
       "  <thead>\n",
       "    <tr style=\"text-align: right;\">\n",
       "      <th>quoter</th>\n",
       "      <th>1</th>\n",
       "      <th>2</th>\n",
       "      <th>3</th>\n",
       "      <th>4</th>\n",
       "    </tr>\n",
       "    <tr>\n",
       "      <th>service</th>\n",
       "      <th></th>\n",
       "      <th></th>\n",
       "      <th></th>\n",
       "      <th></th>\n",
       "    </tr>\n",
       "  </thead>\n",
       "  <tbody>\n",
       "    <tr>\n",
       "      <th>TelcoCloud</th>\n",
       "      <td>4</td>\n",
       "      <td>6</td>\n",
       "      <td>5</td>\n",
       "      <td>7</td>\n",
       "    </tr>\n",
       "    <tr>\n",
       "      <th>ЗСПД ЕГИСЗ</th>\n",
       "      <td>9</td>\n",
       "      <td>3</td>\n",
       "      <td>12</td>\n",
       "      <td>15</td>\n",
       "    </tr>\n",
       "    <tr>\n",
       "      <th>НОП</th>\n",
       "      <td>183</td>\n",
       "      <td>262</td>\n",
       "      <td>221</td>\n",
       "      <td>270</td>\n",
       "    </tr>\n",
       "    <tr>\n",
       "      <th>ППЭ</th>\n",
       "      <td>5</td>\n",
       "      <td>4</td>\n",
       "      <td>17</td>\n",
       "      <td>13</td>\n",
       "    </tr>\n",
       "    <tr>\n",
       "      <th>Платформа Цифровых Продуктов</th>\n",
       "      <td>6</td>\n",
       "      <td>11</td>\n",
       "      <td>3</td>\n",
       "      <td>7</td>\n",
       "    </tr>\n",
       "    <tr>\n",
       "      <th>РТК-Экраны</th>\n",
       "      <td>4</td>\n",
       "      <td>6</td>\n",
       "      <td>13</td>\n",
       "      <td>7</td>\n",
       "    </tr>\n",
       "  </tbody>\n",
       "</table>\n",
       "</div>"
      ],
      "text/plain": [
       "quoter                          1    2    3    4\n",
       "service                                         \n",
       "TelcoCloud                      4    6    5    7\n",
       "ЗСПД ЕГИСЗ                      9    3   12   15\n",
       "НОП                           183  262  221  270\n",
       "ППЭ                             5    4   17   13\n",
       "Платформа Цифровых Продуктов    6   11    3    7\n",
       "РТК-Экраны                      4    6   13    7"
      ]
     },
     "execution_count": 111,
     "metadata": {},
     "output_type": "execute_result"
    }
   ],
   "source": [
    "\n",
    "tmp[[\"dt_create\", \"dt_solve\", \"dt_close\"]]  = tmp[[\"dt_create\", \"dt_solve\", \"dt_close\"]].astype('datetime64')\n",
    "df = tmp.loc[\n",
    "        (tmp[\"type\"] == \"Инцидент\") &\n",
    "        (tmp[\"client\"] != 'Мониторинг') &\n",
    "        (tmp[\"sla\"] == 'Да') &\n",
    "        (tmp[\"service\"].isin([\"НОП\", \"TelcoCloud\", \"Платформа Цифровых Продуктов\", \"РТК-Экраны\", \"ЗСПД ЕГИСЗ\", \"ППЭ\"])) &\n",
    "        (tmp[\"firm\"] == 'ДЭФИР') \n",
    "    ]\n",
    "df\n",
    "\n",
    "df['quoter'] = df['dt_solve'].dt.quarter\n",
    "pd.pivot_table(df, values='number',  index='service', columns='quoter', aggfunc='count')\n"
   ]
  },
  {
   "attachments": {},
   "cell_type": "markdown",
   "metadata": {},
   "source": [
    "##### 2. Рассчитайте, какая группа специалистов ДЭФИР решила больше всего обращений за 2 квартал 2021 года с учетом, что решившая группа остается заполненной в поле Назначенная группа."
   ]
  },
  {
   "cell_type": "code",
   "execution_count": 112,
   "metadata": {},
   "outputs": [
    {
     "data": {
      "text/html": [
       "<div>\n",
       "<style scoped>\n",
       "    .dataframe tbody tr th:only-of-type {\n",
       "        vertical-align: middle;\n",
       "    }\n",
       "\n",
       "    .dataframe tbody tr th {\n",
       "        vertical-align: top;\n",
       "    }\n",
       "\n",
       "    .dataframe thead th {\n",
       "        text-align: right;\n",
       "    }\n",
       "</style>\n",
       "<table border=\"1\" class=\"dataframe\">\n",
       "  <thead>\n",
       "    <tr style=\"text-align: right;\">\n",
       "      <th></th>\n",
       "      <th>number</th>\n",
       "    </tr>\n",
       "    <tr>\n",
       "      <th>group</th>\n",
       "      <th></th>\n",
       "    </tr>\n",
       "  </thead>\n",
       "  <tbody>\n",
       "    <tr>\n",
       "      <th>Группа 1</th>\n",
       "      <td>53</td>\n",
       "    </tr>\n",
       "    <tr>\n",
       "      <th>Группа 2</th>\n",
       "      <td>67</td>\n",
       "    </tr>\n",
       "    <tr>\n",
       "      <th>Группа 3</th>\n",
       "      <td>57</td>\n",
       "    </tr>\n",
       "    <tr>\n",
       "      <th>Группа 4</th>\n",
       "      <td>50</td>\n",
       "    </tr>\n",
       "    <tr>\n",
       "      <th>Группа 5</th>\n",
       "      <td>65</td>\n",
       "    </tr>\n",
       "  </tbody>\n",
       "</table>\n",
       "</div>"
      ],
      "text/plain": [
       "          number\n",
       "group           \n",
       "Группа 1      53\n",
       "Группа 2      67\n",
       "Группа 3      57\n",
       "Группа 4      50\n",
       "Группа 5      65"
      ]
     },
     "execution_count": 112,
     "metadata": {},
     "output_type": "execute_result"
    }
   ],
   "source": [
    "df.loc[df['quoter'] == 2, ['number', 'group']].groupby('group').count()"
   ]
  }
 ],
 "metadata": {
  "kernelspec": {
   "display_name": "Python 3",
   "language": "python",
   "name": "python3"
  },
  "language_info": {
   "codemirror_mode": {
    "name": "ipython",
    "version": 3
   },
   "file_extension": ".py",
   "mimetype": "text/x-python",
   "name": "python",
   "nbconvert_exporter": "python",
   "pygments_lexer": "ipython3",
   "version": "3.10.4"
  },
  "orig_nbformat": 4,
  "vscode": {
   "interpreter": {
    "hash": "369f2c481f4da34e4445cda3fffd2e751bd1c4d706f27375911949ba6bb62e1c"
   }
  }
 },
 "nbformat": 4,
 "nbformat_minor": 2
}
